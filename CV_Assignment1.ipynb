{
  "nbformat": 4,
  "nbformat_minor": 0,
  "metadata": {
    "colab": {
      "name": "CV_Assignment1.ipynb",
      "provenance": [],
      "mount_file_id": "1mQuY6zLU2eHiBHdgfBguBOTqwJl397P1",
      "authorship_tag": "ABX9TyOD/g+2n2qF0hizVRam+VfL",
      "include_colab_link": true
    },
    "kernelspec": {
      "name": "python3",
      "display_name": "Python 3"
    },
    "language_info": {
      "name": "python"
    }
  },
  "cells": [
    {
      "cell_type": "markdown",
      "metadata": {
        "id": "view-in-github",
        "colab_type": "text"
      },
      "source": [
        "<a href=\"https://colab.research.google.com/github/rifahzahid/RifahMSAI2k21/blob/main/CV_Assignment1.ipynb\" target=\"_parent\"><img src=\"https://colab.research.google.com/assets/colab-badge.svg\" alt=\"Open In Colab\"/></a>"
      ]
    },
    {
      "cell_type": "code",
      "execution_count": 41,
      "metadata": {
        "id": "aN9sek6Ukga7"
      },
      "outputs": [],
      "source": [
        "import argparse\n",
        "import cv2\n",
        "import numpy as np \n",
        "import os\n",
        "from sklearn.cluster import KMeans\n",
        "from sklearn.svm import SVC\n",
        "from sklearn.preprocessing import StandardScaler\n",
        "from matplotlib import pyplot as plt\n",
        "from sklearn import svm, datasets\n",
        "from sklearn.model_selection import train_test_split\n",
        "from sklearn.metrics import confusion_matrix\n",
        "from sklearn.utils.multiclass import unique_labels\n",
        "from sklearn.metrics.pairwise import chi2_kernel\n",
        "from sklearn.model_selection import GridSearchCV\n",
        "from sklearn.metrics import accuracy_score\n",
        "from tqdm import tqdm\n",
        "import time"
      ]
    },
    {
      "cell_type": "code",
      "source": [
        "from google.colab import drive\n",
        "drive.mount('/content/drive')"
      ],
      "metadata": {
        "colab": {
          "base_uri": "https://localhost:8080/"
        },
        "id": "ablmx711X4yr",
        "outputId": "6f48e466-fbfb-4bee-c56d-e9b00bd35a07"
      },
      "execution_count": 2,
      "outputs": [
        {
          "output_type": "stream",
          "name": "stdout",
          "text": [
            "Drive already mounted at /content/drive; to attempt to forcibly remount, call drive.mount(\"/content/drive\", force_remount=True).\n"
          ]
        }
      ]
    },
    {
      "cell_type": "code",
      "source": [
        "def getFiles(train, path):\n",
        "    images = []\n",
        "    count = 0\n",
        "    for folder in os.listdir(path):\n",
        "        for file in  os.listdir(os.path.join(path, folder)):\n",
        "            images.append(os.path.join(path, os.path.join(folder, file)))\n",
        "\n",
        "    if(train is True):\n",
        "        np.random.shuffle(images)\n",
        "    \n",
        "    return images\n",
        "\n",
        "def getDescriptors(sift, img):\n",
        "    kp, des = sift.detectAndCompute(img, None)\n",
        "    return des\n",
        "\n",
        "def readImage(img_path):\n",
        "    img = cv2.imread(img_path, 0)\n",
        "    return cv2.resize(img,(150,150))\n",
        "\n",
        "def vstackDescriptors(descriptor_list):\n",
        "    descriptors = np.array(descriptor_list[0])\n",
        "    for descriptor in descriptor_list[1:]:\n",
        "        descriptors = np.vstack((descriptors, descriptor)) \n",
        "\n",
        "    return descriptors\n",
        "\n",
        "def clusterDescriptors(descriptors, no_clusters):\n",
        "    kmeans = KMeans(n_clusters = no_clusters).fit(descriptors)\n",
        "    return kmeans\n",
        "\n",
        "def extractFeatures(kmeans, descriptor_list, image_count, no_clusters):\n",
        "    im_features = np.array([np.zeros(no_clusters) for i in range(image_count)])\n",
        "    for i in range(image_count):\n",
        "        for j in range(len(descriptor_list[i])):\n",
        "            feature = descriptor_list[i][j]\n",
        "            feature = feature.reshape(1, 128)\n",
        "            idx = kmeans.predict(feature)\n",
        "            im_features[i][idx] += 1\n",
        "\n",
        "    return im_features\n",
        "\n",
        "def normalizeFeatures(scale, features):\n",
        "    return scale.transform(features)\n",
        "\n",
        "def plotHistogram(im_features, no_clusters):\n",
        "    x_scalar = np.arange(no_clusters)\n",
        "    y_scalar = np.array([abs(np.sum(im_features[:,h], dtype=np.int32)) for h in range(no_clusters)])\n",
        "\n",
        "    plt.bar(x_scalar, y_scalar)\n",
        "    plt.xlabel(\"Visual Word Index\")\n",
        "    plt.ylabel(\"Frequency\")\n",
        "    plt.title(\"Complete Vocabulary Generated\")\n",
        "    plt.xticks(x_scalar + 0.4, x_scalar)\n",
        "    plt.show()\n",
        "\n",
        "def svcParamSelection(X, y, kernel, nfolds):\n",
        "    Cs = [0.5, 0.1, 0.15, 0.2, 0.3]\n",
        "    gammas = [0.1, 0.11, 0.095, 0.105]\n",
        "    param_grid = {'C': Cs, 'gamma' : gammas}\n",
        "    grid_search = GridSearchCV(SVC(kernel=kernel), param_grid, cv=nfolds)\n",
        "    grid_search.fit(X, y)\n",
        "    grid_search.best_params_\n",
        "    return grid_search.best_params_\n",
        "\n",
        "def findSVM(im_features, train_labels, kernel):\n",
        "    features = im_features\n",
        "    if(kernel == \"precomputed\"):\n",
        "        features = np.dot(im_features, im_features.T)\n",
        "    \n",
        "    params = svcParamSelection(features, train_labels, kernel, 5)\n",
        "    C_param, gamma_param = params.get(\"C\"), params.get(\"gamma\")\n",
        "    print(C_param, gamma_param)\n",
        " \n",
        "    svm = SVC(kernel = kernel, C =  C_param, gamma = gamma_param)\n",
        "    svm.fit(features, train_labels)\n",
        "    return svm\n",
        "\n",
        "def plotConfusionMatrix(y_true, y_pred, classes,\n",
        "                          normalize=False,\n",
        "                          title=None,\n",
        "                          cmap=plt.cm.Blues):\n",
        "    if not title:\n",
        "        if normalize:\n",
        "            title = 'Normalized confusion matrix'\n",
        "        else:\n",
        "            title = 'Confusion matrix, without normalization'\n",
        "\n",
        "    cm = confusion_matrix(y_true, y_pred)\n",
        "    if normalize:\n",
        "        cm = cm.astype('float') / cm.sum(axis=1)[:, np.newaxis]\n",
        "        print(\"Normalized confusion matrix\")\n",
        "    else:\n",
        "        print('Confusion matrix, without normalization')\n",
        "\n",
        "    print(cm)\n",
        "    \n",
        "    fig, ax = plt.subplots()\n",
        "    im = ax.imshow(cm, interpolation='nearest', cmap=cmap)\n",
        "    ax.figure.colorbar(im, ax=ax)\n",
        "    ax.set(xticks=np.arange(cm.shape[1]),\n",
        "           yticks=np.arange(cm.shape[0]),\n",
        "           xticklabels=classes, yticklabels=classes,\n",
        "           title=title,\n",
        "           ylabel='True label',\n",
        "           xlabel='Predicted label')\n",
        "\n",
        "    plt.setp(ax.get_xticklabels(), rotation=45, ha=\"right\",\n",
        "             rotation_mode=\"anchor\")\n",
        "\n",
        "    fmt = '.2f' if normalize else 'd'\n",
        "    thresh = cm.max() / 2.\n",
        "    for i in range(cm.shape[0]):\n",
        "        for j in range(cm.shape[1]):\n",
        "            ax.text(j, i, format(cm[i, j], fmt),\n",
        "                    ha=\"center\", va=\"center\",\n",
        "                    color=\"white\" if cm[i, j] > thresh else \"black\")\n",
        "    fig.tight_layout()\n",
        "    return ax\n",
        "\n",
        "def otherAccuracyMeasures(y_true, y_pred):\n",
        "    cm = confusion_matrix(y_true, y_pred)\n",
        "    FP = cm.sum(axis=0) - np.diag(cm)  \n",
        "    FN = cm.sum(axis=1) - np.diag(cm)\n",
        "    TP = np.diag(cm)\n",
        "    TN = cm.sum() - (FP + FN + TP)   \n",
        "\n",
        "    # Sensitivity, hit rate, recall, or true positive rate\n",
        "    TPR = TP/(TP+FN)\n",
        "    print(\"True Positive Rate OR Recall:\", TPR)\n",
        "    # Specificity or true negative rate\n",
        "    TNR = TN/(TN+FP) \n",
        "    print(\"True Negative Rate:\", TNR)\n",
        "    # Precision or positive predictive value\n",
        "    PPV = TP/(TP+FP)\n",
        "    print(\"Positive Predictive Value OR Precision:\", PPV)\n",
        "    # Negative predictive value\n",
        "    NPV = TN/(TN+FN)\n",
        "    print(\"Negative Predictive Value:\", NPV)\n",
        "    # Fall out or false positive rate\n",
        "    FPR = FP/(FP+TN)\n",
        "    print(\"False Positive Rate:\", FPR)\n",
        "    # False negative rate\n",
        "    FNR = FN/(TP+FN)\n",
        "    print(\"False Negative Rate:\", FNR)\n",
        "    # False discovery rate\n",
        "    FDR = FP/(TP+FP)\n",
        "    print(\"False Discovery Rate:\", FDR)\n",
        "    #F1 Score\n",
        "    F1 = (PPV*TPR)/PPV+TPR\n",
        "    print(\"F1 Score:\", F1)\n",
        "\n",
        "def plotConfusions(true, predictions):\n",
        "    np.set_printoptions(precision=2)\n",
        "\n",
        "    class_names = [\"00001\", \"00002\", \"00003\", \"00004\", \"00005\", \"00006\", \"00007\", \"00008\", \"00009\", \"00010\"]\n",
        "    plotConfusionMatrix(true, predictions, classes=class_names,\n",
        "                      title='Confusion matrix, without normalization')\n",
        "\n",
        "    plotConfusionMatrix(true, predictions, classes=class_names, normalize=True,\n",
        "                      title='Normalized confusion matrix')\n",
        "\n",
        "    plt.show()\n",
        "\n",
        "def findAccuracy(true, predictions):\n",
        "    print ('accuracy score: %0.3f' % accuracy_score(true, predictions))\n",
        "\n",
        "def IncorrectlyClassifiedExamples(true, predictions):\n",
        "    misclassified_samples = true != predictions\n",
        "    for i in range(5):\n",
        "       np.flatnonzero(true != predictions)\n",
        "\n",
        "def CorrectlyClassifiedExamples(true, predictions):\n",
        "    misclassified_samples = true == predictions\n",
        "    for i in range(5):\n",
        "       np.flatnonzero(true != predictions)"
      ],
      "metadata": {
        "id": "6Wlcan2lkoO9"
      },
      "execution_count": 75,
      "outputs": []
    },
    {
      "cell_type": "code",
      "source": [
        "def trainModel(path, no_clusters, kernel):\n",
        "    images = getFiles(True, path)\n",
        "    print(\"Train images path detected.\")\n",
        "    sift = cv2.xfeatures2d.SIFT_create()\n",
        "    descriptor_list = []\n",
        "    train_labels = np.array([])\n",
        "    label_count = 10\n",
        "    image_count = len(images)\n",
        "\n",
        "    for img_path in images:\n",
        "        if(\"00001\" in img_path):\n",
        "            class_index = 0\n",
        "        elif(\"00002\" in img_path):\n",
        "            class_index = 1\n",
        "        elif(\"00003\" in img_path):\n",
        "            class_index = 2\n",
        "        elif(\"00004\" in img_path):\n",
        "            class_index = 3\n",
        "        elif(\"00005\" in img_path):\n",
        "            class_index = 4  \n",
        "        elif(\"00006\" in img_path):\n",
        "            class_index = 5\n",
        "        elif(\"00007\" in img_path):\n",
        "            class_index = 6\n",
        "        elif(\"00008\" in img_path):\n",
        "            class_index = 7\n",
        "        elif(\"00009\" in img_path):\n",
        "            class_index = 8\n",
        "        elif(\"00010\" in img_path):\n",
        "            class_index = 9       \n",
        "        train_labels = np.append(train_labels, class_index)\n",
        "        img = readImage(img_path)\n",
        "        des = getDescriptors(sift, img)\n",
        "        descriptor_list.append(des)\n",
        "\n",
        "    descriptors = vstackDescriptors(descriptor_list)\n",
        "    print(\"Descriptors vstacked.\")\n",
        "\n",
        "    kmeans = clusterDescriptors(descriptors, no_clusters)\n",
        "    print(\"Descriptors clustered.\")\n",
        "\n",
        "    im_features = extractFeatures(kmeans, descriptor_list, image_count, no_clusters)\n",
        "    print(\"Images features extracted.\")\n",
        "\n",
        "    scale = StandardScaler().fit(im_features)        \n",
        "    im_features = scale.transform(im_features)\n",
        "    print(\"Train images normalized.\")\n",
        "\n",
        "    plotHistogram(im_features, no_clusters)\n",
        "    print(\"Features histogram plotted.\")\n",
        "\n",
        "    svm = findSVM(im_features, train_labels, kernel)\n",
        "    print(\"SVM fitted.\")\n",
        "    print(\"Training completed.\")\n",
        "\n",
        "    return kmeans, scale, svm, im_features"
      ],
      "metadata": {
        "id": "1TUCHiofkz-m"
      },
      "execution_count": 43,
      "outputs": []
    },
    {
      "cell_type": "code",
      "source": [
        "train_path = \"drive/MyDrive/train\"\n",
        "test_path  = \"drive/MyDrive/test\"\n",
        "no_clusters = 500\n",
        "kernel = \"precomputed\"\n",
        "\n",
        "start_time = time.time()\n",
        "kmeans, scale, svm, im_features = trainModel(train_path, no_clusters, kernel)\n",
        "print(\"--- %s seconds ---\" % (time.time() - start_time))"
      ],
      "metadata": {
        "colab": {
          "base_uri": "https://localhost:8080/",
          "height": 477
        },
        "id": "QPQPkzPCpEk2",
        "outputId": "293a3f8f-67e9-4d55-8fd0-8f9c9886f710"
      },
      "execution_count": 86,
      "outputs": [
        {
          "output_type": "stream",
          "name": "stdout",
          "text": [
            "Train images path detected.\n",
            "Descriptors vstacked.\n",
            "Descriptors clustered.\n",
            "Images features extracted.\n",
            "Train images normalized.\n"
          ]
        },
        {
          "output_type": "display_data",
          "data": {
            "image/png": "[encoded data removed]",
            "text/plain": [
              "<Figure size 432x288 with 1 Axes>"
            ]
          },
          "metadata": {
            "needs_background": "light"
          }
        },
        {
          "output_type": "stream",
          "name": "stdout",
          "text": [
            "Features histogram plotted.\n",
            "0.5 0.1\n",
            "SVM fitted.\n",
            "Training completed.\n",
            "--- 515.5285260677338 seconds ---\n"
          ]
        }
      ]
    },
    {
      "cell_type": "code",
      "source": [
        "!pip install opencv-python==3.4.2.17\n",
        "!pip install opencv-contrib-python==3.4.2.17"
      ],
      "metadata": {
        "colab": {
          "base_uri": "https://localhost:8080/",
          "height": 618
        },
        "id": "yenJIrCfvddW",
        "outputId": "5fda1e39-833e-4935-a7b4-75213ca526ab"
      },
      "execution_count": 6,
      "outputs": [
        {
          "output_type": "stream",
          "name": "stdout",
          "text": [
            "Collecting opencv-python==3.4.2.17\n",
            "  Downloading opencv_python-3.4.2.17-cp37-cp37m-manylinux1_x86_64.whl (25.0 MB)\n",
            "\u001b[K     |████████████████████████████████| 25.0 MB 1.7 MB/s \n",
            "\u001b[?25hRequirement already satisfied: numpy>=1.14.5 in /usr/local/lib/python3.7/dist-packages (from opencv-python==3.4.2.17) (1.21.5)\n",
            "Installing collected packages: opencv-python\n",
            "  Attempting uninstall: opencv-python\n",
            "    Found existing installation: opencv-python 4.1.2.30\n",
            "    Uninstalling opencv-python-4.1.2.30:\n",
            "      Successfully uninstalled opencv-python-4.1.2.30\n",
            "\u001b[31mERROR: pip's dependency resolver does not currently take into account all the packages that are installed. This behaviour is the source of the following dependency conflicts.\n",
            "albumentations 0.1.12 requires imgaug<0.2.7,>=0.2.5, but you have imgaug 0.2.9 which is incompatible.\u001b[0m\n",
            "Successfully installed opencv-python-3.4.2.17\n"
          ]
        },
        {
          "output_type": "display_data",
          "data": {
            "application/vnd.colab-display-data+json": {
              "pip_warning": {
                "packages": [
                  "cv2"
                ]
              }
            }
          },
          "metadata": {}
        },
        {
          "output_type": "stream",
          "name": "stdout",
          "text": [
            "Collecting opencv-contrib-python==3.4.2.17\n",
            "  Downloading opencv_contrib_python-3.4.2.17-cp37-cp37m-manylinux1_x86_64.whl (30.6 MB)\n",
            "\u001b[K     |████████████████████████████████| 30.6 MB 1.5 MB/s \n",
            "\u001b[?25hRequirement already satisfied: numpy>=1.14.5 in /usr/local/lib/python3.7/dist-packages (from opencv-contrib-python==3.4.2.17) (1.21.5)\n",
            "Installing collected packages: opencv-contrib-python\n",
            "  Attempting uninstall: opencv-contrib-python\n",
            "    Found existing installation: opencv-contrib-python 4.1.2.30\n",
            "    Uninstalling opencv-contrib-python-4.1.2.30:\n",
            "      Successfully uninstalled opencv-contrib-python-4.1.2.30\n",
            "Successfully installed opencv-contrib-python-3.4.2.17\n"
          ]
        },
        {
          "output_type": "display_data",
          "data": {
            "application/vnd.colab-display-data+json": {
              "pip_warning": {
                "packages": [
                  "cv2"
                ]
              }
            }
          },
          "metadata": {}
        }
      ]
    },
    {
      "cell_type": "code",
      "execution_count": 76,
      "metadata": {
        "id": "XfpIy-crSis7"
      },
      "outputs": [],
      "source": [
        "def testModel(path, kmeans, scale, svm, im_features, no_clusters, kernel):\n",
        "    test_images = getFiles(False, path)\n",
        "    print(\"Test images path detected.\")\n",
        "\n",
        "    count = 0\n",
        "    true = []\n",
        "    descriptor_list = []\n",
        "\n",
        "    name_dict =\t{\n",
        "        \"0\": \"00001\",\n",
        "        \"1\": \"00002\",\n",
        "        \"2\": \"00003\",\n",
        "        \"3\": \"00004\",\n",
        "        \"4\": \"00005\",\n",
        "        \"5\": \"00006\",\n",
        "        \"6\": \"00007\",\n",
        "        \"7\": \"00008\",\n",
        "        \"8\": \"00009\",\n",
        "        \"9\": \"00010\",\n",
        "    }\n",
        "\n",
        "    sift = cv2.xfeatures2d.SIFT_create()\n",
        "\n",
        "    for img_path in test_images:\n",
        "        img = readImage(img_path)\n",
        "        des = getDescriptors(sift, img)\n",
        "\n",
        "        if(des is not None):\n",
        "            count += 1\n",
        "            descriptor_list.append(des)\n",
        "\n",
        "            if(\"00001\" in img_path):\n",
        "                true.append(\"00001\")\n",
        "            elif(\"00002\" in img_path):\n",
        "                true.append(\"00002\")\n",
        "            elif(\"00003\" in img_path):\n",
        "                true.append(\"00003\")\n",
        "            elif(\"00004\" in img_path):\n",
        "                true.append(\"00004\")\n",
        "            elif(\"00005\" in img_path):\n",
        "                true.append(\"00005\")\n",
        "            elif(\"00006\" in img_path):\n",
        "                true.append(\"00006\")\n",
        "            elif(\"00007\" in img_path):\n",
        "                true.append(\"00007\")\n",
        "            elif(\"00008\" in img_path):\n",
        "                true.append(\"00008\")\n",
        "            elif(\"00009\" in img_path):\n",
        "                true.append(\"00009\")\n",
        "            else:\n",
        "                true.append(\"00010\")\n",
        "\n",
        "    descriptors = vstackDescriptors(descriptor_list)\n",
        "\n",
        "    test_features = extractFeatures(kmeans, descriptor_list, count, no_clusters)\n",
        "\n",
        "    test_features = scale.transform(test_features)\n",
        "    \n",
        "    kernel_test = test_features\n",
        "    if(kernel == \"precomputed\"):\n",
        "        kernel_test = np.dot(test_features, im_features.T)\n",
        "    \n",
        "    predictions = [name_dict[str(int(i))] for i in svm.predict(kernel_test)]\n",
        "    print(\"Test images classified.\")\n",
        "\n",
        "    plotConfusions(true, predictions)\n",
        "    print(\"Confusion matrixes plotted.\")\n",
        "\n",
        "    otherAccuracyMeasures(true, predictions)\n",
        "    print(\"Other measures calculated\")\n",
        "\n",
        "    findAccuracy(true, predictions)\n",
        "    print(\"Accuracy calculated.\")\n",
        "    print(\"Execution done.\")\n",
        "\n",
        "    IncorrectlyClassifiedExamples(true, predictions)\n",
        "    CorrectlyClassifiedExamples(true, predictions)"
      ]
    },
    {
      "cell_type": "code",
      "source": [
        "start_time = time.time()\n",
        "testModel(test_path, kmeans, scale, svm, im_features, no_clusters, kernel)\n",
        "print(\"--- %s seconds ---\" % (time.time() - start_time))"
      ],
      "metadata": {
        "colab": {
          "base_uri": "https://localhost:8080/",
          "height": 1000
        },
        "id": "HfAtCyY2wX1I",
        "outputId": "b674f87a-cbe6-4588-a00d-ce4b5c5bc6e9"
      },
      "execution_count": 87,
      "outputs": [
        {
          "output_type": "stream",
          "name": "stdout",
          "text": [
            "Test images path detected.\n",
            "Test images classified.\n",
            "Confusion matrix, without normalization\n",
            "[[47 29  0  3  0  1  0  2  0  2]\n",
            " [23 19  2  1  2  0  3  3  1  2]\n",
            " [ 2  3  4  0  0  0  0  0  0  0]\n",
            " [ 3  1  0  3  0  0  0  1  0  0]\n",
            " [ 4  3  0  0  0  0  0  0  0  0]\n",
            " [ 6  1  0  0  0  1  0  0  0  0]\n",
            " [ 4  0  0  0  0  0  3  0  0  0]\n",
            " [ 4  1  0  0  0  0  0  1  0  0]\n",
            " [ 4  3  0  0  0  0  0  0  0  0]\n",
            " [ 3  1  0  0  0  0  1  0  0  3]]\n",
            "Normalized confusion matrix\n",
            "[[0.56 0.35 0.   0.04 0.   0.01 0.   0.02 0.   0.02]\n",
            " [0.41 0.34 0.04 0.02 0.04 0.   0.05 0.05 0.02 0.04]\n",
            " [0.22 0.33 0.44 0.   0.   0.   0.   0.   0.   0.  ]\n",
            " [0.38 0.12 0.   0.38 0.   0.   0.   0.12 0.   0.  ]\n",
            " [0.57 0.43 0.   0.   0.   0.   0.   0.   0.   0.  ]\n",
            " [0.75 0.12 0.   0.   0.   0.12 0.   0.   0.   0.  ]\n",
            " [0.57 0.   0.   0.   0.   0.   0.43 0.   0.   0.  ]\n",
            " [0.67 0.17 0.   0.   0.   0.   0.   0.17 0.   0.  ]\n",
            " [0.57 0.43 0.   0.   0.   0.   0.   0.   0.   0.  ]\n",
            " [0.38 0.12 0.   0.   0.   0.   0.12 0.   0.   0.38]]\n"
          ]
        },
        {
          "output_type": "display_data",
          "data": {
            "image/png": "[encoded data removed]",
            "text/plain": [
              "<Figure size 432x288 with 2 Axes>"
            ]
          },
          "metadata": {
            "needs_background": "light"
          }
        },
        {
          "output_type": "display_data",
          "data": {
            "image/png": "[encoded data removed]",
            "text/plain": [
              "<Figure size 432x288 with 2 Axes>"
            ]
          },
          "metadata": {
            "needs_background": "light"
          }
        },
        {
          "output_type": "stream",
          "name": "stdout",
          "text": [
            "Confusion matrixes plotted.\n",
            "True Positive Rate OR Recall: [0.56 0.34 0.44 0.38 0.   0.12 0.43 0.17 0.   0.38]\n",
            "True Negative Rate: [0.54 0.71 0.99 0.98 0.99 0.99 0.98 0.97 0.99 0.98]\n",
            "Positive Predictive Value OR Precision: [0.47 0.31 0.67 0.43 0.   0.5  0.43 0.14 0.   0.43]\n",
            "Negative Predictive Value: [0.63 0.73 0.97 0.97 0.96 0.96 0.98 0.97 0.96 0.97]\n",
            "False Positive Rate: [0.46 0.29 0.01 0.02 0.01 0.01 0.02 0.03 0.01 0.02]\n",
            "False Negative Rate: [0.44 0.66 0.56 0.62 1.   0.88 0.57 0.83 1.   0.62]\n",
            "False Discovery Rate: [0.53 0.69 0.33 0.57 1.   0.5  0.57 0.86 1.   0.57]\n",
            "F1 Score: [1.12 0.68 0.89 0.75  nan 0.25 0.86 0.33  nan 0.75]\n",
            "Other measures calculated\n",
            "accuracy score: 0.405\n",
            "Accuracy calculated.\n",
            "Execution done.\n",
            "--- 12.109635353088379 seconds ---\n"
          ]
        },
        {
          "output_type": "stream",
          "name": "stderr",
          "text": [
            "/usr/local/lib/python3.7/dist-packages/ipykernel_launcher.py:150: RuntimeWarning: invalid value encountered in true_divide\n"
          ]
        }
      ]
    }
  ]
}